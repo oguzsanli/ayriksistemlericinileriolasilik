{
  "nbformat": 4,
  "nbformat_minor": 0,
  "metadata": {
    "colab": {
      "name": "guvercinYasasi.ipynb",
      "provenance": [],
      "authorship_tag": "ABX9TyOR+glVGGG5HW3e3VwK0GEQ",
      "include_colab_link": true
    },
    "kernelspec": {
      "name": "python3",
      "display_name": "Python 3"
    },
    "language_info": {
      "name": "python"
    }
  },
  "cells": [
    {
      "cell_type": "markdown",
      "metadata": {
        "id": "view-in-github",
        "colab_type": "text"
      },
      "source": [
        "<a href=\"https://colab.research.google.com/github/oguzsanli/ayriksistemlericinileriolasilik/blob/main/guvercinYasasi.ipynb\" target=\"_parent\"><img src=\"https://colab.research.google.com/assets/colab-badge.svg\" alt=\"Open In Colab\"/></a>"
      ]
    },
    {
      "cell_type": "markdown",
      "source": [
        "Birçok problemin çözümünde kullanılan güvercin yuvası prensibi (Çekmece gözü prensibi, Kutu ilkesi, Drichlet İlkesi) ifade olarak çok basittir ancak bir çok sorunun çözümünde çok önemli rol oynamaktadır. Güvercin Yuvası prensibi genel olarak üç farklı şekilde ifade edilir.\n",
        "\n",
        " n+1  top n  farklı kutuya dağıtıldığında en az bir kutuda 1 den fazla top bulunur.\n",
        " n   tane güvercin k  tane yuvaya nasıl konulursa konulsun en az bir yuvadaki güvercin sayısı \\frac{n}{k}  dan az değildir.\n",
        " mn+1  adet bilye n  farklı kutuya dağıtıldığında en az bir kutuda m den fazla (en az m+1  tane) bilye bulunur."
      ],
      "metadata": {
        "id": "8ZHv-B-8rLnV"
      }
    },
    {
      "cell_type": "markdown",
      "source": [
        "Soru:Bir fabrika buzdolabı üretmektedir. Her buzdolabının bir harf ve 3 rakamdan oluşan bir kimlik kodu bulunmaktadır. Bu kodlar ördeğin D322 veya M059 şeklindedir. Fabrikada üretilen buzdolaplarının kodlarından en az 3 tanesinin aynı olmasını garanti edebilmek için en az kaç buzdolabı üretilmiş olmalıdır?(Not: Alfabede 26 harf olduğunu varsayınız.)"
      ],
      "metadata": {
        "id": "3Z9jCeOjrh-A"
      }
    },
    {
      "cell_type": "markdown",
      "source": [
        "Çözüm:"
      ],
      "metadata": {
        "id": "7ksLn8SAwFwu"
      }
    },
    {
      "cell_type": "markdown",
      "source": [
        "*   Toplam kaç farklı kimlik kodu olabilir? 26 x 10 x 10 x 10 = 26000\n",
        "*   En az 3 tanesinin aynı kimlik numarasına sahip olması için 26000 + 26000 + 1"
      ],
      "metadata": {
        "id": "D30w5iEGxROl"
      }
    },
    {
      "cell_type": "code",
      "execution_count": null,
      "metadata": {
        "colab": {
          "base_uri": "https://localhost:8080/"
        },
        "id": "18tM0IJSqmtv",
        "outputId": "80b4a785-c0c0-41ec-b825-0adf5310b927"
      },
      "outputs": [
        {
          "output_type": "stream",
          "name": "stdout",
          "text": [
            "Toplam kimlik kodu sayısı: 26000\n",
            "Üretilmesi gereken en az buzdolabı sayısı: 52001\n"
          ]
        }
      ],
      "source": [
        "harf_sayisi = 26\n",
        "rakam_sayisi = 10\n",
        "toplam_kimlik_kodu = pow(rakam_sayisi,3)*harf_sayisi\n",
        "print(\"Toplam kimlik kodu sayısı: \" + str(toplam_kimlik_kodu))\n",
        "\n",
        "toplam_buzdolabı_sayısı = toplam_kimlik_kodu*2 + 1\n",
        "print(\"Üretilmesi gereken en az buzdolabı sayısı: \" + str(toplam_buzdolabı_sayısı))"
      ]
    }
  ]
}