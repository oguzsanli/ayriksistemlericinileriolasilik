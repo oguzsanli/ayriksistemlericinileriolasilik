{
  "nbformat": 4,
  "nbformat_minor": 0,
  "metadata": {
    "colab": {
      "name": "permutasyon_kombinasyon.ipynb",
      "provenance": [],
      "collapsed_sections": [],
      "authorship_tag": "ABX9TyMQ9cRLhoimBA+bjcF1UXgm",
      "include_colab_link": true
    },
    "kernelspec": {
      "name": "python3",
      "display_name": "Python 3"
    },
    "language_info": {
      "name": "python"
    }
  },
  "cells": [
    {
      "cell_type": "markdown",
      "metadata": {
        "id": "view-in-github",
        "colab_type": "text"
      },
      "source": [
        "<a href=\"https://colab.research.google.com/github/oguzsanli/ayriksistemlericinileriolasilik/blob/main/permutasyon_kombinasyon.ipynb\" target=\"_parent\"><img src=\"https://colab.research.google.com/assets/colab-badge.svg\" alt=\"Open In Colab\"/></a>"
      ]
    },
    {
      "cell_type": "code",
      "execution_count": 15,
      "metadata": {
        "id": "xiZwduqa01hU"
      },
      "outputs": [],
      "source": [
        "########################################\n",
        "#Faktoriyel\n",
        "########################################\n",
        "def faktoriyel(sayi):\n",
        "    fact = 1 \n",
        "    if sayi < 0: \n",
        "        print (\"Sayi sifirdan kücük olamaz\")\n",
        "    else:\n",
        "        for i in range(1,sayi + 1): \n",
        "            fact = fact*i \n",
        "    return fact\n",
        "########################################\n",
        "#Permutasyon\n",
        "########################################\n",
        "def permutasyon(sboncuk,bboncuk):\n",
        "    perm = 0\n",
        "    perm = faktoriyel(sboncuk+bboncuk)/(faktoriyel(sboncuk)*faktoriyel(bboncuk))\n",
        "    return perm\n",
        "########################################\n",
        "#Kombinasyon\n",
        "########################################\n",
        "def kombinasyon(toplam_sayi,ssayi):\n",
        "    komb = 0\n",
        "    if (ssayi>toplam_sayi):\n",
        "        print (\"Lütfen eleman sayısından küçük bir seçim sayısı giriniz:\")\n",
        "    else:\n",
        "        komb = faktoriyel(toplam_sayi)/(faktoriyel(toplam_sayi-ssayi)*faktoriyel(ssayi))\n",
        "    return komb"
      ]
    },
    {
      "cell_type": "markdown",
      "source": [
        "Özdeş 4 siyah ve 2 beyaz boncuk düz bir tele kaç farklı biçimde dizilebilir?"
      ],
      "metadata": {
        "id": "eXQ6EVoi7jDl"
      }
    },
    {
      "cell_type": "code",
      "source": [
        "print(permutasyon(4,2))"
      ],
      "metadata": {
        "colab": {
          "base_uri": "https://localhost:8080/"
        },
        "id": "0Qifkd-m-JKt",
        "outputId": "a4a8e1a7-5f3a-496b-846f-eb64cc74615a"
      },
      "execution_count": 16,
      "outputs": [
        {
          "output_type": "stream",
          "name": "stdout",
          "text": [
            "15.0\n"
          ]
        }
      ]
    },
    {
      "cell_type": "markdown",
      "source": [
        "12 kişilik bir kafileden 8 kişi A kentine, 4 kişi B kentine gidecektir.\n",
        "Bu iki grup kaç değişik biçimde oluşturulabilir?"
      ],
      "metadata": {
        "id": "5aVG9XbCBjOu"
      }
    },
    {
      "cell_type": "code",
      "source": [
        "print(kombinasyon(12,8)*kombinasyon(4,4))"
      ],
      "metadata": {
        "colab": {
          "base_uri": "https://localhost:8080/"
        },
        "id": "zny68fcJBk72",
        "outputId": "1594535d-7fa4-4b70-ec7b-b3a57d435507"
      },
      "execution_count": 18,
      "outputs": [
        {
          "output_type": "stream",
          "name": "stdout",
          "text": [
            "495.0\n"
          ]
        }
      ]
    }
  ]
}