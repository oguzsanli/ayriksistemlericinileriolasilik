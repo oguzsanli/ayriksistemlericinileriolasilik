{
  "nbformat": 4,
  "nbformat_minor": 0,
  "metadata": {
    "colab": {
      "name": "Untitled0.ipynb",
      "provenance": [],
      "authorship_tag": "ABX9TyOAnoHnf/i5ilsU62kiJn13",
      "include_colab_link": true
    },
    "kernelspec": {
      "name": "python3",
      "display_name": "Python 3"
    },
    "language_info": {
      "name": "python"
    }
  },
  "cells": [
    {
      "cell_type": "markdown",
      "metadata": {
        "id": "view-in-github",
        "colab_type": "text"
      },
      "source": [
        "<a href=\"https://colab.research.google.com/github/oguzsanli/ayriksistemlericinileriolasilik/blob/main/odev3.ipynb\" target=\"_parent\"><img src=\"https://colab.research.google.com/assets/colab-badge.svg\" alt=\"Open In Colab\"/></a>"
      ]
    },
    {
      "cell_type": "markdown",
      "source": [
        "Soru:\n",
        "\n",
        "Birbirinden farklı 3 cam, 4 plastik bardak bir rafa dizilecektir.\n",
        "\n",
        "Cam bardakların yan yana olma olasılığı kaçtır ?"
      ],
      "metadata": {
        "id": "xIEk7zzAHh6x"
      }
    },
    {
      "cell_type": "code",
      "source": [
        ""
      ],
      "metadata": {
        "id": "hmyS7kS1Ho_H"
      },
      "execution_count": null,
      "outputs": []
    },
    {
      "cell_type": "markdown",
      "source": [
        "Cevap:\n",
        "\n",
        "7 bardak 7! şekilde sıralanır.\n",
        "\n",
        "Cam bardaklar yan yana 3!.5! şeklinde sıralanır. \n",
        "\n",
        "Cam bardakların yan yana gelme olasılığı\n",
        "\n",
        "P(A)=5!.3!/7!=1/7 bulunur."
      ],
      "metadata": {
        "id": "A7gizls1Hfqw"
      }
    },
    {
      "cell_type": "code",
      "source": [
        "########################################\n",
        "#Faktoriyel\n",
        "########################################\n",
        "def faktoriyel(sayi):\n",
        "    fact = 1 \n",
        "    if sayi < 0: \n",
        "        print (\"Sayi sifirdan kücük olamaz\")\n",
        "    else:\n",
        "        for i in range(1,sayi + 1): \n",
        "            fact = fact*i \n",
        "    return fact"
      ],
      "metadata": {
        "id": "FsLAhofWHnAQ"
      },
      "execution_count": 2,
      "outputs": []
    },
    {
      "cell_type": "code",
      "source": [
        "tum_durumlar = faktoriyel(7)\n",
        "\n",
        "#cam bardakların kendi aralarında yer değiştirme durumu\n",
        "cam_bardaklar_p = faktoriyel(3)*faktoriyel(5)\n",
        "\n",
        "#cam bardakların yan yana gelme olasılığı\n",
        "print(cam_bardaklar_p/tum_durumlar)\n"
      ],
      "metadata": {
        "colab": {
          "base_uri": "https://localhost:8080/"
        },
        "id": "lv_GgyR-LICB",
        "outputId": "9e3d2822-b0dd-40f5-8b5f-9d2fd9f4963e"
      },
      "execution_count": 3,
      "outputs": [
        {
          "output_type": "stream",
          "name": "stdout",
          "text": [
            "0.14285714285714285\n"
          ]
        }
      ]
    }
  ]
}